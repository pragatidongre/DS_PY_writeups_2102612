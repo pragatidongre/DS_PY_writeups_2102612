{
  "nbformat": 4,
  "nbformat_minor": 0,
  "metadata": {
    "colab": {
      "provenance": [],
      "authorship_tag": "ABX9TyNOkdfXHBBb3iSNWBwIauui",
      "include_colab_link": true
    },
    "kernelspec": {
      "name": "python3",
      "display_name": "Python 3"
    },
    "language_info": {
      "name": "python"
    }
  },
  "cells": [
    {
      "cell_type": "markdown",
      "metadata": {
        "id": "view-in-github",
        "colab_type": "text"
      },
      "source": [
        "<a href=\"https://colab.research.google.com/github/pragatidongre/DS_PY_writeups_2102612/blob/main/Untitled1.ipynb\" target=\"_parent\"><img src=\"https://colab.research.google.com/assets/colab-badge.svg\" alt=\"Open In Colab\"/></a>"
      ]
    },
    {
      "cell_type": "code",
      "execution_count": null,
      "metadata": {
        "id": "ZPPV4nc-WypR"
      },
      "outputs": [],
      "source": []
    },
    {
      "cell_type": "markdown",
      "source": [],
      "metadata": {
        "id": "RWefLsUGW_i_"
      }
    },
    {
      "cell_type": "code",
      "source": [],
      "metadata": {
        "id": "sb0weDRZXTyR"
      },
      "execution_count": null,
      "outputs": []
    },
    {
      "cell_type": "markdown",
      "source": [],
      "metadata": {
        "id": "p5UBmaQRXgB9"
      }
    },
    {
      "cell_type": "markdown",
      "source": [],
      "metadata": {
        "id": "XBXhWa7WXgJl"
      }
    },
    {
      "cell_type": "markdown",
      "source": [
        "Q2. Upload your data set to your drive (any mail id) and show how to access it into the Colab environment. Show the shape and size of the data set.\n"
      ],
      "metadata": {
        "id": "v3PEzRSrXosg"
      }
    },
    {
      "cell_type": "markdown",
      "source": [],
      "metadata": {
        "id": "jdBGyRrNb_5u"
      }
    },
    {
      "cell_type": "code",
      "source": [
        "import pandas as pd\n",
        "\n",
        "read_file = pd.read_csv (r /content/Behavior of the urban traffic of the city of Sao Paulo in Brazil (1).zip)\n",
        "read_file = pd.read_csv (r /content/Behavior_of_the_urban_traffic_of_the_city_of_Sao_Paulo_in_Brazil_(3)-1[1].csv,index.null )"
      ],
      "metadata": {
        "colab": {
          "base_uri": "https://localhost:8080/",
          "height": 130
        },
        "id": "vkXYfH6mcSSn",
        "outputId": "162d8383-565e-4890-ff00-c0c592e21fb4"
      },
      "execution_count": 6,
      "outputs": [
        {
          "output_type": "error",
          "ename": "SyntaxError",
          "evalue": "ignored",
          "traceback": [
            "\u001b[0;36m  File \u001b[0;32m\"<ipython-input-6-d7013ea88847>\"\u001b[0;36m, line \u001b[0;32m3\u001b[0m\n\u001b[0;31m    read_file = pd.read_csv (r /content/Behavior of the urban traffic of the city of Sao Paulo in Brazil (1).zip)\u001b[0m\n\u001b[0m                             ^\u001b[0m\n\u001b[0;31mSyntaxError\u001b[0m\u001b[0;31m:\u001b[0m invalid syntax. Perhaps you forgot a comma?\n"
          ]
        }
      ]
    },
    {
      "cell_type": "markdown",
      "source": [
        "Q3. subset any 2 numeric columns from the data set and create a separate variable to store them. Show a statistical summary of the two. Check if there are any missing values in the columns."
      ],
      "metadata": {
        "id": "NiXbmI_Zjp1j"
      }
    }
  ]
}